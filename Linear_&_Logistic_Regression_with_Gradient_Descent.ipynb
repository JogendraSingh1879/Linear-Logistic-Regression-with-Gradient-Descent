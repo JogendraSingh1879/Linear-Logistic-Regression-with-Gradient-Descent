{
  "nbformat": 4,
  "nbformat_minor": 0,
  "metadata": {
    "colab": {
      "provenance": [],
      "authorship_tag": "ABX9TyNOQb8n+4u/3oQLtc/LHIVA",
      "include_colab_link": true
    },
    "kernelspec": {
      "name": "python3",
      "display_name": "Python 3"
    },
    "language_info": {
      "name": "python"
    }
  },
  "cells": [
    {
      "cell_type": "markdown",
      "metadata": {
        "id": "view-in-github",
        "colab_type": "text"
      },
      "source": [
        "<a href=\"https://colab.research.google.com/github/JogendraSingh1879/Linear-Logistic-Regression-with-Gradient-Descent/blob/main/Linear_%26_Logistic_Regression_with_Gradient_Descent.ipynb\" target=\"_parent\"><img src=\"https://colab.research.google.com/assets/colab-badge.svg\" alt=\"Open In Colab\"/></a>"
      ]
    },
    {
      "cell_type": "markdown",
      "source": [
        "# **Linear Regression with Gradient Descent**"
      ],
      "metadata": {
        "id": "A2qZEYaaD591"
      }
    },
    {
      "cell_type": "markdown",
      "source": [
        "# Step 1: Import Libraries"
      ],
      "metadata": {
        "id": "XnHi8pQJEPF9"
      }
    },
    {
      "cell_type": "code",
      "execution_count": 1,
      "metadata": {
        "id": "Fg5enotzDthp"
      },
      "outputs": [],
      "source": [
        "import numpy as np\n",
        "import matplotlib.pyplot as plt"
      ]
    },
    {
      "cell_type": "markdown",
      "source": [
        "# Step 2: Generate Synthetic Data"
      ],
      "metadata": {
        "id": "orCXd5xWEUwg"
      }
    },
    {
      "cell_type": "code",
      "source": [
        "# Generate some synthetic data for demonstration\n",
        "np.random.seed(0)\n",
        "X = 3 * np.random.rand(100, 1)  # 100 random points for X\n",
        "y = 4 + 4 * X + np.random.randn(100, 1)  # Linear relation y = 4 + 4X + noise"
      ],
      "metadata": {
        "id": "lW-rADA3EWAD"
      },
      "execution_count": 2,
      "outputs": []
    },
    {
      "cell_type": "code",
      "source": [
        "X"
      ],
      "metadata": {
        "colab": {
          "base_uri": "https://localhost:8080/"
        },
        "id": "QoeKN5XUEi4d",
        "outputId": "be9468e2-1d35-44e0-ccdd-246bd74afc27"
      },
      "execution_count": 4,
      "outputs": [
        {
          "output_type": "execute_result",
          "data": {
            "text/plain": [
              "array([[1.64644051],\n",
              "       [2.1455681 ],\n",
              "       [1.80829013],\n",
              "       [1.63464955],\n",
              "       [1.2709644 ],\n",
              "       [1.93768234],\n",
              "       [1.31276163],\n",
              "       [2.675319  ],\n",
              "       [2.89098828],\n",
              "       [1.15032456],\n",
              "       [2.37517511],\n",
              "       [1.58668476],\n",
              "       [1.70413368],\n",
              "       [2.77678991],\n",
              "       [0.21310817],\n",
              "       [0.2613879 ],\n",
              "       [0.06065519],\n",
              "       [2.49785954],\n",
              "       [2.33447025],\n",
              "       [2.61003644],\n",
              "       [2.93585503],\n",
              "       [2.39747569],\n",
              "       [1.38443809],\n",
              "       [2.34158753],\n",
              "       [0.35482328],\n",
              "       [1.91976306],\n",
              "       [0.43005986],\n",
              "       [2.83400675],\n",
              "       [1.56554497],\n",
              "       [1.24398582],\n",
              "       [0.79366684],\n",
              "       [2.32270107],\n",
              "       [1.368451  ],\n",
              "       [1.70530185],\n",
              "       [0.0563694 ],\n",
              "       [1.85290649],\n",
              "       [1.83628717],\n",
              "       [1.85080199],\n",
              "       [2.83124424],\n",
              "       [2.0454609 ],\n",
              "       [1.0785237 ],\n",
              "       [1.31109586],\n",
              "       [2.09289359],\n",
              "       [0.18067641],\n",
              "       [2.00030015],\n",
              "       [2.01191361],\n",
              "       [0.63114768],\n",
              "       [0.38677889],\n",
              "       [0.94628505],\n",
              "       [1.09113231],\n",
              "       [1.71059031],\n",
              "       [1.31580454],\n",
              "       [2.96512151],\n",
              "       [0.30613443],\n",
              "       [0.62663027],\n",
              "       [0.48392855],\n",
              "       [1.95932498],\n",
              "       [0.75987481],\n",
              "       [1.39893232],\n",
              "       [0.73327678],\n",
              "       [0.47690875],\n",
              "       [0.33112542],\n",
              "       [1.96898877],\n",
              "       [0.41454885],\n",
              "       [0.58974709],\n",
              "       [1.10617551],\n",
              "       [2.46297969],\n",
              "       [0.29130383],\n",
              "       [2.51383472],\n",
              "       [0.28829522],\n",
              "       [2.9293784 ],\n",
              "       [1.4059536 ],\n",
              "       [2.93028326],\n",
              "       [1.81453656],\n",
              "       [2.21779074],\n",
              "       [0.11756338],\n",
              "       [0.84842089],\n",
              "       [0.36058968],\n",
              "       [0.88842059],\n",
              "       [0.35618316],\n",
              "       [0.95394954],\n",
              "       [1.24278898],\n",
              "       [0.19244249],\n",
              "       [2.07741636],\n",
              "       [1.69980436],\n",
              "       [0.79616847],\n",
              "       [1.56974416],\n",
              "       [0.28182153],\n",
              "       [1.72783949],\n",
              "       [2.78788859],\n",
              "       [0.95570686],\n",
              "       [2.00223114],\n",
              "       [0.39539359],\n",
              "       [2.14898161],\n",
              "       [0.86821828],\n",
              "       [0.54957409],\n",
              "       [1.7595388 ],\n",
              "       [0.06032264],\n",
              "       [2.48682009],\n",
              "       [0.01408643]])"
            ]
          },
          "metadata": {},
          "execution_count": 4
        }
      ]
    },
    {
      "cell_type": "code",
      "source": [
        "y"
      ],
      "metadata": {
        "colab": {
          "base_uri": "https://localhost:8080/"
        },
        "id": "2KKWa-DTEqOy",
        "outputId": "9778557b-9170-414f-a6c3-6b05838c857a"
      },
      "execution_count": 5,
      "outputs": [
        {
          "output_type": "execute_result",
          "data": {
            "text/plain": [
              "array([[ 9.42061221],\n",
              "       [13.48309888],\n",
              "       [11.69882295],\n",
              "       [ 9.00235451],\n",
              "       [10.57210979],\n",
              "       [13.64661853],\n",
              "       [10.42982611],\n",
              "       [14.52135117],\n",
              "       [14.4932005 ],\n",
              "       [ 9.65574995],\n",
              "       [13.09752351],\n",
              "       [11.56918411],\n",
              "       [11.02480971],\n",
              "       [16.0837987 ],\n",
              "       [ 5.2087991 ],\n",
              "       [ 5.75212476],\n",
              "       [ 4.25312079],\n",
              "       [15.77730864],\n",
              "       [13.4647931 ],\n",
              "       [14.84213514],\n",
              "       [17.6265708 ],\n",
              "       [12.24214371],\n",
              "       [ 8.26726735],\n",
              "       [14.33574682],\n",
              "       [ 4.24616971],\n",
              "       [13.62267344],\n",
              "       [ 5.30662047],\n",
              "       [14.58857219],\n",
              "       [12.18512189],\n",
              "       [10.45645807],\n",
              "       [ 9.04222631],\n",
              "       [14.19684893],\n",
              "       [ 8.6125783 ],\n",
              "       [12.73127234],\n",
              "       [ 3.95747423],\n",
              "       [12.21408236],\n",
              "       [12.29240064],\n",
              "       [11.24819787],\n",
              "       [15.93905631],\n",
              "       [13.10405026],\n",
              "       [ 8.69052034],\n",
              "       [ 8.14498266],\n",
              "       [12.66981253],\n",
              "       [ 6.04909156],\n",
              "       [11.30663273],\n",
              "       [11.8980199 ],\n",
              "       [ 6.08943718],\n",
              "       [ 7.3963793 ],\n",
              "       [ 8.45743497],\n",
              "       [ 8.77199109],\n",
              "       [10.07244517],\n",
              "       [ 9.80246735],\n",
              "       [15.1861534 ],\n",
              "       [ 5.25636829],\n",
              "       [ 5.87067499],\n",
              "       [ 6.61214751],\n",
              "       [12.41389072],\n",
              "       [ 6.83120047],\n",
              "       [ 9.99173599],\n",
              "       [ 5.8400456 ],\n",
              "       [ 4.41637741],\n",
              "       [ 5.7638934 ],\n",
              "       [12.04262857],\n",
              "       [ 6.29322685],\n",
              "       [ 8.74213312],\n",
              "       [ 9.36918153],\n",
              "       [12.93909653],\n",
              "       [ 6.2822316 ],\n",
              "       [12.73943148],\n",
              "       [ 4.69159629],\n",
              "       [15.64927197],\n",
              "       [11.33715714],\n",
              "       [14.97637824],\n",
              "       [10.4317077 ],\n",
              "       [12.77271043],\n",
              "       [ 3.80677522],\n",
              "       [ 8.52031947],\n",
              "       [ 4.36242723],\n",
              "       [ 6.40621372],\n",
              "       [ 4.98691258],\n",
              "       [ 7.3177657 ],\n",
              "       [10.90068799],\n",
              "       [ 5.71919076],\n",
              "       [12.39721667],\n",
              "       [ 9.57378193],\n",
              "       [ 8.02903687],\n",
              "       [ 9.27876129],\n",
              "       [ 3.58251503],\n",
              "       [12.09938774],\n",
              "       [15.46849698],\n",
              "       [ 8.74368625],\n",
              "       [12.32765221],\n",
              "       [ 6.43840496],\n",
              "       [11.94490086],\n",
              "       [ 6.43863027],\n",
              "       [ 6.87989086],\n",
              "       [10.23474555],\n",
              "       [ 3.55174078],\n",
              "       [13.49174785],\n",
              "       [ 4.07382487]])"
            ]
          },
          "metadata": {},
          "execution_count": 5
        }
      ]
    },
    {
      "cell_type": "markdown",
      "source": [
        "# Step 3: Initialize Parameters for Gradient Descent"
      ],
      "metadata": {
        "id": "lvZuYCARE1HW"
      }
    },
    {
      "cell_type": "markdown",
      "source": [
        "# We need to initialize the parameters (theta0 for the intercept, theta1 for the slope and min_loss for the loss value) and set the hyperparameters (learning_rate and n_iterations)"
      ],
      "metadata": {
        "id": "4kA4Dw8DE2y7"
      }
    },
    {
      "cell_type": "code",
      "source": [
        "# Initialize parameters\n",
        "theta0 = 0  # Intercept\n",
        "theta1 = 0  # Slope\n",
        "\n",
        "# Hyperparameters\n",
        "learning_rate = 0.1\n",
        "n_iterations = 12\n",
        "\n",
        "m = len(X)  # Number of data points\n",
        "\n",
        "# Variables to track the minimum loss\n",
        "min_loss = float('inf')\n",
        "best_theta0, best_theta1 = theta0, theta1\n",
        "loss_history = []  # Store loss values"
      ],
      "metadata": {
        "id": "MrSKhjw9E8Wx"
      },
      "execution_count": 12,
      "outputs": []
    },
    {
      "cell_type": "markdown",
      "source": [
        "# Step 4: Implement the Gradient Descent Algorithm"
      ],
      "metadata": {
        "id": "4-L2lS4XFRb5"
      }
    },
    {
      "cell_type": "code",
      "source": [
        "# Gradient Descent\n",
        "for iteration in range(n_iterations):\n",
        "    print('iteration :',iteration+1)\n",
        "    # Predicted values\n",
        "    y_pred = theta0 + theta1 * X\n",
        "\n",
        "    # Compute Mean Squared Error (MSE) loss\n",
        "    loss = (1/m) * np.sum((y_pred - y) ** 2)\n",
        "\n",
        "    print('loss Value:',loss)\n",
        "\n",
        "    loss_history.append(loss)\n",
        "\n",
        "    # Check for minimum loss\n",
        "    if loss < min_loss:\n",
        "        min_loss = loss\n",
        "        best_theta0, best_theta1 = theta0, theta1\n",
        "\n",
        "    print('theta0    :',theta0)\n",
        "    print('theta1    :',theta1)\n",
        "\n",
        "    # Compute gradients\n",
        "    d_theta0 = (2/m) * np.sum(y_pred - y)  # Gradient for intercept\n",
        "    d_theta1 = (2/m) * np.sum((y_pred - y) * X)  # Gradient for slope\n",
        "\n",
        "    # Update parameters\n",
        "    theta0 -= learning_rate * d_theta0\n",
        "    theta1 -= learning_rate * d_theta1\n",
        "    print('-----------------')\n",
        "# print(f\"Final parameters: Intercept (theta0) = {theta0:.4f}, Slope (theta1) = {theta1:.4f}\")\n",
        "print(f\"Best parameters: Intercept (best_theta0) = {best_theta0:.4f}, Slope (best_theta1) = {best_theta1:.4f} with Minimum Loss = {min_loss:.4f}\")"
      ],
      "metadata": {
        "colab": {
          "base_uri": "https://localhost:8080/"
        },
        "id": "h7vrqM7DFTXX",
        "outputId": "5c85b89f-019a-4481-dcdf-e6a9d0355c4a"
      },
      "execution_count": 13,
      "outputs": [
        {
          "output_type": "stream",
          "name": "stdout",
          "text": [
            "iteration : 1\n",
            "loss Value: 110.1711326835075\n",
            "theta0    : 0\n",
            "theta1    : 0\n",
            "-----------------\n",
            "iteration : 2\n",
            "loss Value: 10.726692864501631\n",
            "theta0    : 1.9731720836454674\n",
            "theta1    : 3.3940139936569467\n",
            "-----------------\n",
            "iteration : 3\n",
            "loss Value: 2.3082947779436713\n",
            "theta0    : 2.588908406109672\n",
            "theta1    : 4.354880739258508\n",
            "-----------------\n",
            "iteration : 4\n",
            "loss Value: 1.5584686922905462\n",
            "theta0    : 2.8089223373333203\n",
            "theta1    : 4.610704897946066\n",
            "-----------------\n",
            "iteration : 5\n",
            "loss Value: 1.4577579286758422\n",
            "theta0    : 2.9123622305766688\n",
            "theta1    : 4.66290821424205\n",
            "-----------------\n",
            "iteration : 6\n",
            "loss Value: 1.4148070832231647\n",
            "theta0    : 2.9803053013632286\n",
            "theta1    : 4.656953247500522\n",
            "-----------------\n",
            "iteration : 7\n",
            "loss Value: 1.3795648877757964\n",
            "theta0    : 3.0363490409464142\n",
            "theta1    : 4.635011424185158\n",
            "-----------------\n",
            "iteration : 8\n",
            "loss Value: 1.3475819507749875\n",
            "theta0    : 3.0874084079476685\n",
            "theta1    : 4.609282620475984\n",
            "-----------------\n",
            "iteration : 9\n",
            "loss Value: 1.3182681858166867\n",
            "theta0    : 3.1355545534837064\n",
            "theta1    : 4.583271096806551\n",
            "-----------------\n",
            "iteration : 10\n",
            "loss Value: 1.2913762605417276\n",
            "theta0    : 3.181450322800882\n",
            "theta1    : 4.557959318941805\n",
            "-----------------\n",
            "iteration : 11\n",
            "loss Value: 1.2667040164932866\n",
            "theta0    : 3.225347289839559\n",
            "theta1    : 4.533599424292518\n",
            "-----------------\n",
            "iteration : 12\n",
            "loss Value: 1.2440680649585036\n",
            "theta0    : 3.267375188343315\n",
            "theta1    : 4.510233011586725\n",
            "-----------------\n",
            "Best parameters: Intercept (best_theta0) = 3.2674, Slope (best_theta1) = 4.5102 with Minimum Loss = 1.2441\n"
          ]
        }
      ]
    },
    {
      "cell_type": "markdown",
      "source": [
        "# Step 5: Visualize the Results"
      ],
      "metadata": {
        "id": "_0Zq-njvFyIL"
      }
    },
    {
      "cell_type": "code",
      "source": [
        "# Plot the results\n",
        "plt.figure(figsize=(12, 5))\n",
        "\n",
        "# Plot the fitted line\n",
        "plt.subplot(1, 2, 1)\n",
        "plt.scatter(X, y, color='blue', label='Data points')\n",
        "plt.plot(X, best_theta0 + best_theta1 * X, color='red', label='Best fitted line')\n",
        "plt.xlabel('X')\n",
        "plt.ylabel('y')\n",
        "plt.title('Linear Regression with Gradient Descent')\n",
        "plt.legend()\n",
        "\n",
        "# Plot the loss reduction\n",
        "plt.subplot(1, 2, 2)\n",
        "plt.plot(range(n_iterations), loss_history, color='purple',marker='*')\n",
        "plt.xlabel('Iteration')\n",
        "plt.ylabel('Loss (MSE)')\n",
        "plt.title('Loss Reduction over Iterations')\n",
        "\n",
        "plt.tight_layout()\n",
        "plt.show()"
      ],
      "metadata": {
        "colab": {
          "base_uri": "https://localhost:8080/",
          "height": 507
        },
        "id": "KcUBiRedFzkD",
        "outputId": "247c9799-47b0-492f-f9e5-dd3bbc316e8a"
      },
      "execution_count": 14,
      "outputs": [
        {
          "output_type": "display_data",
          "data": {
            "text/plain": [
              "<Figure size 1200x500 with 2 Axes>"
            ],
            "image/png": "[encoded data removed]"
          },
          "metadata": {}
        }
      ]
    },
    {
      "cell_type": "markdown",
      "source": [
        "# **Logistic Regression with Gradient Descent**"
      ],
      "metadata": {
        "id": "fmr1_AKNGb5J"
      }
    },
    {
      "cell_type": "markdown",
      "source": [
        "Step 1: Import Libraries"
      ],
      "metadata": {
        "id": "T79jRi22GlDl"
      }
    },
    {
      "cell_type": "code",
      "source": [
        "# Import necessary libraries\n",
        "import numpy as np\n",
        "import matplotlib.pyplot as plt"
      ],
      "metadata": {
        "id": "Po0p0tipGmEL"
      },
      "execution_count": 15,
      "outputs": []
    },
    {
      "cell_type": "markdown",
      "source": [
        "Step 2: Generate Synthetic Data"
      ],
      "metadata": {
        "id": "v1dY0Ot9GrNL"
      }
    },
    {
      "cell_type": "code",
      "source": [
        "# Generate synthetic data for demonstration\n",
        "np.random.seed(0)\n",
        "X = 4 * np.random.rand(100, 1)  # 100 random points for X\n",
        "y = (4 + 4 * X + np.random.randn(100, 1) > 6).astype(int)  # Generating binary labels (0 or 1) based on some threshold"
      ],
      "metadata": {
        "id": "kIKp0YISG21e"
      },
      "execution_count": 19,
      "outputs": []
    },
    {
      "cell_type": "code",
      "source": [
        "X"
      ],
      "metadata": {
        "colab": {
          "base_uri": "https://localhost:8080/"
        },
        "id": "Y_jD2X2EHJGi",
        "outputId": "5332624f-9805-4c07-de4a-abef2631a704"
      },
      "execution_count": 20,
      "outputs": [
        {
          "output_type": "execute_result",
          "data": {
            "text/plain": [
              "array([[2.19525402],\n",
              "       [2.86075747],\n",
              "       [2.4110535 ],\n",
              "       [2.17953273],\n",
              "       [1.6946192 ],\n",
              "       [2.58357645],\n",
              "       [1.75034885],\n",
              "       [3.567092  ],\n",
              "       [3.85465104],\n",
              "       [1.53376608],\n",
              "       [3.16690015],\n",
              "       [2.11557968],\n",
              "       [2.27217824],\n",
              "       [3.70238655],\n",
              "       [0.28414423],\n",
              "       [0.3485172 ],\n",
              "       [0.08087359],\n",
              "       [3.33047938],\n",
              "       [3.112627  ],\n",
              "       [3.48004859],\n",
              "       [3.91447337],\n",
              "       [3.19663426],\n",
              "       [1.84591745],\n",
              "       [3.12211671],\n",
              "       [0.4730977 ],\n",
              "       [2.55968409],\n",
              "       [0.57341315],\n",
              "       [3.77867567],\n",
              "       [2.08739329],\n",
              "       [1.65864776],\n",
              "       [1.05822245],\n",
              "       [3.09693476],\n",
              "       [1.82460133],\n",
              "       [2.2737358 ],\n",
              "       [0.0751592 ],\n",
              "       [2.47054199],\n",
              "       [2.44838289],\n",
              "       [2.46773599],\n",
              "       [3.77499231],\n",
              "       [2.7272812 ],\n",
              "       [1.4380316 ],\n",
              "       [1.74812782],\n",
              "       [2.79052478],\n",
              "       [0.24090189],\n",
              "       [2.66706686],\n",
              "       [2.68255148],\n",
              "       [0.84153024],\n",
              "       [0.51570519],\n",
              "       [1.2617134 ],\n",
              "       [1.45484308],\n",
              "       [2.28078708],\n",
              "       [1.75440605],\n",
              "       [3.95349535],\n",
              "       [0.40817924],\n",
              "       [0.83550702],\n",
              "       [0.64523807],\n",
              "       [2.6124333 ],\n",
              "       [1.01316641],\n",
              "       [1.86524309],\n",
              "       [0.97770237],\n",
              "       [0.63587833],\n",
              "       [0.44150056],\n",
              "       [2.62531836],\n",
              "       [0.55273181],\n",
              "       [0.78632945],\n",
              "       [1.47490068],\n",
              "       [3.28397292],\n",
              "       [0.3884051 ],\n",
              "       [3.35177963],\n",
              "       [0.38439363],\n",
              "       [3.90583786],\n",
              "       [1.87460481],\n",
              "       [3.90704435],\n",
              "       [2.41938208],\n",
              "       [2.95705432],\n",
              "       [0.15675117],\n",
              "       [1.13122785],\n",
              "       [0.48078624],\n",
              "       [1.18456079],\n",
              "       [0.47491088],\n",
              "       [1.27193272],\n",
              "       [1.65705198],\n",
              "       [0.25658999],\n",
              "       [2.76988848],\n",
              "       [2.26640582],\n",
              "       [1.06155796],\n",
              "       [2.09299221],\n",
              "       [0.37576204],\n",
              "       [2.30378598],\n",
              "       [3.71718479],\n",
              "       [1.27427581],\n",
              "       [2.66964152],\n",
              "       [0.52719145],\n",
              "       [2.86530882],\n",
              "       [1.15762437],\n",
              "       [0.73276545],\n",
              "       [2.34605174],\n",
              "       [0.08043018],\n",
              "       [3.31576012],\n",
              "       [0.0187819 ]])"
            ]
          },
          "metadata": {},
          "execution_count": 20
        }
      ]
    },
    {
      "cell_type": "code",
      "source": [
        "y"
      ],
      "metadata": {
        "colab": {
          "base_uri": "https://localhost:8080/"
        },
        "id": "9NYEIiwAHYJG",
        "outputId": "586239c2-d9d5-4e25-964e-0b72b0e02dfd"
      },
      "execution_count": 21,
      "outputs": [
        {
          "output_type": "execute_result",
          "data": {
            "text/plain": [
              "array([[1],\n",
              "       [1],\n",
              "       [1],\n",
              "       [1],\n",
              "       [1],\n",
              "       [1],\n",
              "       [1],\n",
              "       [1],\n",
              "       [1],\n",
              "       [1],\n",
              "       [1],\n",
              "       [1],\n",
              "       [1],\n",
              "       [1],\n",
              "       [0],\n",
              "       [1],\n",
              "       [0],\n",
              "       [1],\n",
              "       [1],\n",
              "       [1],\n",
              "       [1],\n",
              "       [1],\n",
              "       [1],\n",
              "       [1],\n",
              "       [0],\n",
              "       [1],\n",
              "       [0],\n",
              "       [1],\n",
              "       [1],\n",
              "       [1],\n",
              "       [1],\n",
              "       [1],\n",
              "       [1],\n",
              "       [1],\n",
              "       [0],\n",
              "       [1],\n",
              "       [1],\n",
              "       [1],\n",
              "       [1],\n",
              "       [1],\n",
              "       [1],\n",
              "       [1],\n",
              "       [1],\n",
              "       [1],\n",
              "       [1],\n",
              "       [1],\n",
              "       [1],\n",
              "       [1],\n",
              "       [1],\n",
              "       [1],\n",
              "       [1],\n",
              "       [1],\n",
              "       [1],\n",
              "       [0],\n",
              "       [1],\n",
              "       [1],\n",
              "       [1],\n",
              "       [1],\n",
              "       [1],\n",
              "       [1],\n",
              "       [0],\n",
              "       [1],\n",
              "       [1],\n",
              "       [1],\n",
              "       [1],\n",
              "       [1],\n",
              "       [1],\n",
              "       [1],\n",
              "       [1],\n",
              "       [0],\n",
              "       [1],\n",
              "       [1],\n",
              "       [1],\n",
              "       [1],\n",
              "       [1],\n",
              "       [0],\n",
              "       [1],\n",
              "       [0],\n",
              "       [1],\n",
              "       [0],\n",
              "       [1],\n",
              "       [1],\n",
              "       [0],\n",
              "       [1],\n",
              "       [1],\n",
              "       [1],\n",
              "       [1],\n",
              "       [0],\n",
              "       [1],\n",
              "       [1],\n",
              "       [1],\n",
              "       [1],\n",
              "       [1],\n",
              "       [1],\n",
              "       [1],\n",
              "       [1],\n",
              "       [1],\n",
              "       [0],\n",
              "       [1],\n",
              "       [0]])"
            ]
          },
          "metadata": {},
          "execution_count": 21
        }
      ]
    },
    {
      "cell_type": "markdown",
      "source": [
        "# Sigmoid function - Logistic Regression Formula"
      ],
      "metadata": {
        "id": "Ko7ADFMiHiEe"
      }
    },
    {
      "cell_type": "code",
      "source": [
        "# Sigmoid function - Logistic Regression Formula\n",
        "def sigmoid(z):\n",
        "    return 1 / (1 + np.exp(-z))"
      ],
      "metadata": {
        "id": "royO0EUfHjtI"
      },
      "execution_count": 22,
      "outputs": []
    },
    {
      "cell_type": "markdown",
      "source": [
        "# Step 3: Initialize Parameters for Gradient Descent"
      ],
      "metadata": {
        "id": "GXEOCrV8HtFP"
      }
    },
    {
      "cell_type": "code",
      "source": [
        "# Initialize parameters\n",
        "theta0 = 0  # Intercept\n",
        "theta1 = 0  # Slope\n",
        "\n",
        "# Hyperparameters\n",
        "learning_rate = 0.1\n",
        "n_iterations = 14\n",
        "\n",
        "m = len(X)  # Number of data points\n",
        "\n",
        "# Variables to track the minimum loss\n",
        "min_loss = float('inf')\n",
        "best_theta0, best_theta1 = theta0, theta1\n",
        "loss_history = []  # Store loss values"
      ],
      "metadata": {
        "id": "BOIta7_nHwe5"
      },
      "execution_count": 24,
      "outputs": []
    },
    {
      "cell_type": "markdown",
      "source": [
        "Step 4: Implement the Gradient Descent Algorithm"
      ],
      "metadata": {
        "id": "dsK2SyltIF5P"
      }
    },
    {
      "cell_type": "code",
      "source": [
        "# Gradient Descent\n",
        "for iteration in range(n_iterations):\n",
        "    print('iteration :',iteration+1)\n",
        "\n",
        "    # Predicted values using sigmoid function\n",
        "    linear_model = theta0 + theta1 * X\n",
        "    y_pred = sigmoid(linear_model)\n",
        "\n",
        "    # Compute Binary Cross-Entropy Loss\n",
        "    loss = -(1/m) * np.sum(y * np.log(y_pred) + (1 - y) * np.log(1 - y_pred))\n",
        "\n",
        "    print('loss Value:',loss)\n",
        "\n",
        "    loss_history.append(loss)\n",
        "\n",
        "    # Check for minimum loss\n",
        "    if loss < min_loss:\n",
        "        min_loss = loss\n",
        "        best_theta0, best_theta1 = theta0, theta1\n",
        "\n",
        "    print('theta0    :',theta0)\n",
        "    print('theta1    :',theta1)\n",
        "\n",
        "    # Compute gradients\n",
        "    d_theta0 = (1/m) * np.sum(y_pred - y)  # Gradient for intercept\n",
        "    d_theta1 = (1/m) * np.sum((y_pred - y) * X)  # Gradient for slope\n",
        "\n",
        "    # Update parameters\n",
        "    theta0 -= learning_rate * d_theta0\n",
        "    theta1 -= learning_rate * d_theta1\n",
        "    print('-----------------')\n",
        "\n",
        "print(f\"Best parameters: Intercept (best_theta0) = {best_theta0:.4f}, Slope (best_theta1) = {best_theta1:.4f} with Minimum Loss = {min_loss:.4f}\")"
      ],
      "metadata": {
        "colab": {
          "base_uri": "https://localhost:8080/"
        },
        "id": "v4NYk73CIYvu",
        "outputId": "702a480e-3228-4c57-c9f8-9ab2201ec595"
      },
      "execution_count": 25,
      "outputs": [
        {
          "output_type": "stream",
          "name": "stdout",
          "text": [
            "iteration : 1\n",
            "loss Value: 0.6931471805599453\n",
            "theta0    : 0\n",
            "theta1    : 0\n",
            "-----------------\n",
            "iteration : 2\n",
            "loss Value: 0.6068177634990467\n",
            "theta0    : 0.035\n",
            "theta1    : 0.0897996164083073\n",
            "-----------------\n",
            "iteration : 3\n",
            "loss Value: 0.5429145496552414\n",
            "theta0    : 0.0649108034848569\n",
            "theta1    : 0.16702594607613946\n",
            "-----------------\n",
            "iteration : 4\n",
            "loss Value: 0.49493365820398605\n",
            "theta0    : 0.09058865686463219\n",
            "theta1    : 0.23387262469832515\n",
            "-----------------\n",
            "iteration : 5\n",
            "loss Value: 0.4582005604205005\n",
            "theta0    : 0.1127914628897709\n",
            "theta1    : 0.2923018019596302\n",
            "-----------------\n",
            "iteration : 6\n",
            "loss Value: 0.42949466264192004\n",
            "theta0    : 0.1321405947199857\n",
            "theta1    : 0.34391908135826216\n",
            "-----------------\n",
            "iteration : 7\n",
            "loss Value: 0.4066174224465244\n",
            "theta0    : 0.14912946232969798\n",
            "theta1    : 0.38998956294803944\n",
            "-----------------\n",
            "iteration : 8\n",
            "loss Value: 0.38805647882255473\n",
            "theta0    : 0.16414631723865392\n",
            "theta1    : 0.43149816925141005\n",
            "-----------------\n",
            "iteration : 9\n",
            "loss Value: 0.3727552958925978\n",
            "theta0    : 0.1774973948407865\n",
            "theta1    : 0.4692124380688639\n",
            "-----------------\n",
            "iteration : 10\n",
            "loss Value: 0.35996203024175116\n",
            "theta0    : 0.18942615429641102\n",
            "theta1    : 0.5037348650739767\n",
            "-----------------\n",
            "iteration : 11\n",
            "loss Value: 0.3491313814964776\n",
            "theta0    : 0.2001281471216019\n",
            "theta1    : 0.5355431903682203\n",
            "-----------------\n",
            "iteration : 12\n",
            "loss Value: 0.33986049387169637\n",
            "theta0    : 0.20976218909320868\n",
            "theta1    : 0.5650204630120934\n",
            "-----------------\n",
            "iteration : 13\n",
            "loss Value: 0.3318465491728756\n",
            "theta0    : 0.2184586864842565\n",
            "theta1    : 0.592477266544458\n",
            "-----------------\n",
            "iteration : 14\n",
            "loss Value: 0.32485825334810026\n",
            "theta0    : 0.22632585131441074\n",
            "theta1    : 0.6181681654071298\n",
            "-----------------\n",
            "Best parameters: Intercept (best_theta0) = 0.2263, Slope (best_theta1) = 0.6182 with Minimum Loss = 0.3249\n"
          ]
        }
      ]
    },
    {
      "cell_type": "markdown",
      "source": [
        "Step 5: Visualize the Results"
      ],
      "metadata": {
        "id": "QbXIzh3mIwIM"
      }
    },
    {
      "cell_type": "code",
      "source": [
        "# Plot the results\n",
        "plt.figure(figsize=(12, 5))\n",
        "\n",
        "# Plot the fitted line\n",
        "plt.subplot(1, 2, 1)\n",
        "plt.scatter(X, y, color='blue', label='Data points')\n",
        "plt.plot(X, sigmoid(best_theta0 + best_theta1 * X), color='red', label='Best fitted curve')\n",
        "plt.xlabel('X')\n",
        "plt.ylabel('y')\n",
        "plt.title('Logistic Regression with Gradient Descent')\n",
        "plt.legend()\n",
        "\n",
        "# Plot the loss reduction\n",
        "plt.subplot(1, 2, 2)\n",
        "plt.plot(range(n_iterations), loss_history, color='purple', marker='*')\n",
        "plt.xlabel('Iteration')\n",
        "plt.ylabel('Loss (Binary Cross-Entropy)')\n",
        "plt.title('Loss Reduction over Iterations')\n",
        "\n",
        "plt.tight_layout()\n",
        "plt.show()"
      ],
      "metadata": {
        "colab": {
          "base_uri": "https://localhost:8080/",
          "height": 507
        },
        "id": "gTioL-xsIM9D",
        "outputId": "65cf3c3b-dde9-4ca5-fa05-c03b148b7932"
      },
      "execution_count": 26,
      "outputs": [
        {
          "output_type": "display_data",
          "data": {
            "text/plain": [
              "<Figure size 1200x500 with 2 Axes>"
            ],
            "image/png": "[encoded data removed]"
          },
          "metadata": {}
        }
      ]
    }
  ]
}